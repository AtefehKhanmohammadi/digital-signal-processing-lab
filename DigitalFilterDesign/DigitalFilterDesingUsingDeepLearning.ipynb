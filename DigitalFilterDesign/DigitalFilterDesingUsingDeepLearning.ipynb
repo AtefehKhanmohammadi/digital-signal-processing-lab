{
 "cells": [
  {
   "cell_type": "markdown",
   "metadata": {},
   "source": [
    "# Digital Filter Design using Deep Learning"
   ]
  },
  {
   "cell_type": "markdown",
   "metadata": {},
   "source": [
    "We can see digital filters as some block box which we should find the parameters of it. In this notebook, we will use deep learning to find the parameters of a digital filter."
   ]
  },
  {
   "cell_type": "markdown",
   "metadata": {},
   "source": []
  }
 ],
 "metadata": {
  "language_info": {
   "name": "python"
  }
 },
 "nbformat": 4,
 "nbformat_minor": 2
}
