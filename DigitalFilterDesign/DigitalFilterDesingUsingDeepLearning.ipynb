{
 "cells": [
  {
   "cell_type": "markdown",
   "metadata": {},
   "source": [
    "# Digital Filter Design using Deep Learning"
   ]
  },
  {
   "cell_type": "markdown",
   "metadata": {},
   "source": [
    "We can see digital filters as some block box which we should find the parameters of it. In this notebook, we will use deep learning to find the parameters of a digital filter."
   ]
  },
  {
   "cell_type": "markdown",
   "metadata": {},
   "source": [
    "## Linear Algebra Review\n",
    "First I will review some linear algebra concepts which we will use in this notebook.\n",
    "In linear algebra we have different notations for vectors and matrices. In this notebook, I will use the following notations:\n",
    "\n",
    "* $x$: element of a vector(scalar)\n",
    "* $\\mathbf{x}$: The vector\n",
    "* $\\mathbf{X}$: The matrix\n",
    "* $\\mathcal{X}$: The set which contains the elements of the vector or matrix and is a subset of $\\mathbb{R}^n$ or $\\mathbb{C}^n$\n",
    "\n",
    "If the vector $\\mathbf{x}$ has $m_1$ elements, and the matrix $\\mathbf{W}$ has $m_1$ rows and $m_2$ columns, we say that $\\mathbf{x} \\in \\mathbb{R}^{m_1}$ and $\\mathbf{W} \\in \\mathbb{R}^{m_1 \\times m_2}$. the production of this vector and this matrix is defined as below:\n",
    "$$ \\mathbf{x_{1\\times m_1}} \\mathbf{M_{m_1 \\times m_2}} = \\mathbf{y_{1\\times m_2}}$$\n",
    "where $\\mathbf{y} \\in \\mathbb{R}^{m_2}$.\n",
    "\n",
    "If we have $n$ vectors $\\mathbf{x}_i \\in \\mathbb{R}^{m_1}$, we can define a matrix $\\mathbf{X} \\in \\mathbb{R}^{n \\times m_1}$ as below:\n",
    "$$ \\mathbf{X} = \\begin{bmatrix} \\mathbf{x}_1 \\\\ \\mathbf{x}_2 \\\\ \\vdots \\\\ \\mathbf{x}_n \\end{bmatrix}$$\n",
    "\n",
    "The transpose of a matrix $\\mathbf{X}$ is defined as below:\n",
    "$$ \\mathbf{X}^T = \\begin{bmatrix} \\mathbf{x}_1^T & \\mathbf{x}_2^T & \\cdots & \\mathbf{x}_n^T \\end{bmatrix}$$\n",
    "\n",
    "The inverse of a matrix $\\mathbf{X}$ is defined as below:\n",
    "$$ \\mathbf{X}^{-1} \\mathbf{X} = \\mathbf{I}$$\n",
    "\n",
    "We call $\\mathbf{X}$ a 2D tensor, and $\\mathbf{x}$ a 1D tensor.\n",
    "\n",
    "We can consider each vector as a input signal to a digital filter. The output of the filter is the production of the input signal and the filter parameters. We can consider the filter parameters as a matrix. So, the output of the filter is a vector.\n",
    "the filter should behave correctly for all the input signals. So, we should tune the weights of the filter to have the correct output for all the input signals.\n",
    "\n",
    "We assumed that the number of input signals is $n$ and the number of elements of each input signal is $m_1$. So, the input matrix is $\\mathbf{X} \\in \\mathbb{R}^{n \\times m_1}$. If we give all input signals to the system the output matrix is calculated as below:\n",
    "$$ \\mathbf{Y_{n \\times m_2}} = \\mathbf{X_{n \\times m_1}} . \\mathbf{W_{m_1 \\times m_2}}$$\n",
    "\n",
    "In our case the output matrix should have the same size as the input matrix. So, $m_2 = m_1$. So, the output matrix is $\\mathbf{Y_{n \\times m_1}}$. We can calculate the output matrix as below:\n",
    "$$ \\mathbf{Y_{n \\times m_1}} = \\mathbf{X_{n \\times m_1}} . \\mathbf{W_{m_1 \\times m_1}}$$\n",
    "\n",
    "To model a digital filter we cannot use a simple matrix multiplication. We should add some non-linearities to the system. So, we can use the following equation to model a digital filter:\n",
    "$$ \\mathbf{Y_{n \\times m_1}} = \\sigma(\\mathbf{X_{n \\times m_1}} . \\mathbf{W_{m_1 \\times m_1}})$$\n",
    "where $\\sigma$ is a non-linear function.\n"
   ]
  }
 ],
 "metadata": {
  "language_info": {
   "name": "python"
  }
 },
 "nbformat": 4,
 "nbformat_minor": 2
}
